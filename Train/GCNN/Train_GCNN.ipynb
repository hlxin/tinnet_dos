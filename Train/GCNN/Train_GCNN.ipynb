{
 "cells": [
  {
   "cell_type": "markdown",
   "id": "0022c895",
   "metadata": {},
   "source": [
    "Train GCNN models"
   ]
  },
  {
   "cell_type": "code",
   "execution_count": null,
   "id": "ba2cf76f",
   "metadata": {},
   "outputs": [],
   "source": [
    "# Loading modules\n",
    "\n",
    "from __future__ import print_function, division\n",
    "\n",
    "import numpy as np\n",
    "import multiprocessing\n",
    "\n",
    "from ase import io\n",
    "from ase.db import connect\n",
    "\n",
    "from tinnet.feature.voronoi import Voronoi\n",
    "from tinnet.regression.regression import Regression"
   ]
  },
  {
   "cell_type": "code",
   "execution_count": null,
   "id": "0a69ce41",
   "metadata": {},
   "outputs": [],
   "source": [
    "# Setting variables\n",
    "\n",
    "# Optimized hyperparameters\n",
    "lr = 0.0026635818126661374\n",
    "atom_fea_len = 202\n",
    "n_conv = 10\n",
    "h_fea_len = 93\n",
    "n_h = 1\n",
    "\n",
    "descriptor = Voronoi(max_num_nbr=12,\n",
    "                     radius=8,\n",
    "                     dmin=0,\n",
    "                     step=0.2,\n",
    "                     dict_atom_fea=None)\n",
    "\n",
    "db = connect('../Database.db')\n",
    "\n",
    "images = np.array([r.toatoms() for r in db.select()])\n",
    "\n",
    "d_cen = np.array([r['data']['d_cen'] for r in db.select()], dtype=np.float32)\n",
    "full_width = np.array([r['data']['full_width'] for r in db.select()], dtype=np.float32)\n",
    "\n",
    "idx = np.arange(len(images))\n",
    "\n",
    "idx_1 = idx[:-38]\n",
    "idx_2 = idx[-38:] # Last 38 images are pure metals\n",
    "\n",
    "num = int(len(idx_1)*1.00) # % of database for training (1.00 means 100%)\n",
    "np.random.seed(12345)\n",
    "np.random.shuffle(idx_1)\n",
    "\n",
    "idx_1 = idx_1[0:num]\n",
    "\n",
    "idx = np.sort(np.concatenate((idx_1,idx_2)))\n",
    "\n",
    "images = [images[i] for i in idx]\n",
    "\n",
    "d_cen = np.array([d_cen[i] for i in idx])\n",
    "full_width = np.array([full_width[i] for i in idx])\n",
    "\n",
    "features = multiprocessing.Pool().map(descriptor.feas, images)\n",
    "\n",
    "final_ans_val_mae = np.zeros(10)\n",
    "final_ans_val_mse = np.zeros(10)\n",
    "final_ans_test_mae = np.zeros(10)\n",
    "final_ans_test_mse = np.zeros(10)\n",
    "\n",
    "idx_test = 9\n",
    "idx_validation = 8"
   ]
  },
  {
   "cell_type": "code",
   "execution_count": null,
   "id": "3bff551f",
   "metadata": {},
   "outputs": [],
   "source": [
    "# Setting up the model\n",
    "\n",
    "model = Regression(features,\n",
    "                   d_cen,\n",
    "                   phys_model='gcnn_multitask',\n",
    "                   optim_algorithm='AdamW',\n",
    "                   weight_decay=0.0001,\n",
    "                   idx_validation=idx_validation,\n",
    "                   idx_test=idx_test,\n",
    "                   lr=lr,\n",
    "                   atom_fea_len=atom_fea_len,\n",
    "                   n_conv=n_conv,\n",
    "                   h_fea_len=h_fea_len,\n",
    "                   n_h=n_h,\n",
    "                   full_width=full_width,\n",
    "                   batch_size=64)"
   ]
  },
  {
   "cell_type": "code",
   "execution_count": null,
   "id": "c0f32029",
   "metadata": {},
   "outputs": [],
   "source": [
    "# Train the network\n",
    "\n",
    "final_ans_val_mae[idx_test], final_ans_val_mse[idx_test],\\\n",
    "    final_ans_test_mae[idx_test], final_ans_test_mse[idx_test]\\\n",
    "        = model.train(25000)\n",
    "\n",
    "np.savetxt('final_ans_val_MAE.txt', final_ans_val_mae)\n",
    "np.savetxt('final_ans_val_MSE.txt', final_ans_val_mse)\n",
    "np.savetxt('final_ans_test_MAE.txt', final_ans_test_mae)\n",
    "np.savetxt('final_ans_test_MSE.txt', final_ans_test_mse)"
   ]
  }
 ],
 "metadata": {
  "kernelspec": {
   "display_name": "Python 3 (ipykernel)",
   "language": "python",
   "name": "python3"
  },
  "language_info": {
   "codemirror_mode": {
    "name": "ipython",
    "version": 3
   },
   "file_extension": ".py",
   "mimetype": "text/x-python",
   "name": "python",
   "nbconvert_exporter": "python",
   "pygments_lexer": "ipython3",
   "version": "3.7.15"
  }
 },
 "nbformat": 4,
 "nbformat_minor": 5
}
