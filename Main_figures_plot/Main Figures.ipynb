{
 "cells": [
  {
   "cell_type": "markdown",
   "metadata": {},
   "source": [
    "### Load python libraries"
   ]
  },
  {
   "cell_type": "code",
   "execution_count": 1,
   "metadata": {},
   "outputs": [],
   "source": [
    "import shap\n",
    "import pandas as pd\n",
    "import numpy as np\n",
    "from ase.io.trajectory import Trajectory\n",
    "from ase.visualize import view\n",
    "import matplotlib.pyplot as plt\n",
    "from pylab import *\n",
    "from ase import io\n",
    "from scipy import integrate\n",
    "from scipy import interpolate\n",
    "import waterfall_chart\n",
    "import random\n",
    "from scipy.stats import norm\n",
    "import pickle\n",
    "from ase.db import connect"
   ]
  },
  {
   "cell_type": "markdown",
   "metadata": {},
   "source": [
    "### Define the function to calculate d-band center using parameterized formula"
   ]
  },
  {
   "cell_type": "code",
   "execution_count": 2,
   "metadata": {},
   "outputs": [],
   "source": [
    "def d_center(X):\n",
    "    m2 = 0\n",
    "    for i in range(number_nbr):\n",
    "        V2ds = 7.62**2*3.16**2*reference_data[base_element]['rd']**3/(X[:,3*i+1]*X[:,3*i+2])**7\n",
    "        V2dd = 7.62**2*(16.2**2+2*8.75**2)*reference_data[base_element]['rd']**3*X[:,3*i+0]**3/(X[:,3*i+1]*X[:,3*i+2])**10\n",
    "        m2 = m2 + V2ds+V2dd\n",
    "    result = X[:,-3]*m2**0.5*(ref_ratio-X[:,-2]*X[:,-1])\n",
    "    return result"
   ]
  },
  {
   "cell_type": "markdown",
   "metadata": {},
   "source": [
    "### Load DFT data of bulk references "
   ]
  },
  {
   "cell_type": "code",
   "execution_count": 3,
   "metadata": {},
   "outputs": [],
   "source": [
    "reference_data = {'Sc': {'d_cen': 1.7032, 'rd': 0.9409409409409409, 'dij': 3.27, 'Wd': 5.999737383}, \n",
    "                  'Ti': {'d_cen': 1.3243, 'rd': 0.7907907907907907, 'dij': 2.91, 'Wd': 6.741977763}, \n",
    "                   'V': {'d_cen': 0.5548, 'rd': 0.6906906906906907, 'dij': 2.7, 'Wd': 6.977374918}, \n",
    "                  'Cr': {'d_cen': -0.0876, 'rd': 0.6306306306306306, 'dij': 2.56, 'Wd': 7.209708128}, \n",
    "                  'Mn': {'d_cen': -0.6036, 'rd': 0.5905905905905906, 'dij': 2.48, 'Wd': 7.084501084}, \n",
    "                  'Fe': {'d_cen': -0.9278, 'rd': 0.6206206206206206, 'dij': 2.53, 'Wd': 7.112329237}, \n",
    "                  'Co': {'d_cen': -1.5905, 'rd': 0.5605605605605606, 'dij': 2.45, 'Wd': 6.696932181}, \n",
    "                  'Ni': {'d_cen': -1.6686, 'rd': 0.5205205205205206, 'dij': 2.49, 'Wd': 5.354092732}, \n",
    "                  'Cu': {'d_cen': -2.6521, 'rd': 0.4904904904904905, 'dij': 2.58, 'Wd': 4.244656352}, \n",
    "                   'Y': {'d_cen': 2.2707, 'rd': 1.2512512512512513, 'dij': 3.58, 'Wd': 7.873690234}, \n",
    "                  'Zr': {'d_cen': 1.6485, 'rd': 1.0710710710710711, 'dij': 3.2, 'Wd': 8.905095875}, \n",
    "                  'Nb': {'d_cen': 0.6878, 'rd': 0.9409409409409409, 'dij': 2.98, 'Wd': 8.976212519}, \n",
    "                  'Mo': {'d_cen': -0.011, 'rd': 0.8608608608608609, 'dij': 2.84, 'Wd': 9.057322241}, \n",
    "                  'Ru': {'d_cen': -1.6305, 'rd': 0.7507507507507507, 'dij': 2.72, 'Wd': 8.066324527}, \n",
    "                  'Rh': {'d_cen': -2.0874, 'rd': 0.7207207207207207, 'dij': 2.72, 'Wd': 7.39255913}, \n",
    "                  'Pd': {'d_cen': -2.087, 'rd': 0.6706706706706707, 'dij': 2.79, 'Wd': 5.679312123}, \n",
    "                  'Ag': {'d_cen': -4.1421, 'rd': 0.6606606606606606, 'dij': 2.94, 'Wd': 4.503883909}, \n",
    "                  'Ta': {'d_cen': 1.1906, 'rd': 1.021021021021021, 'dij': 2.98, 'Wd': 10.89131422}, \n",
    "                  'W': {'d_cen': 0.1732, 'rd': 0.9409409409409409, 'dij': 2.86, 'Wd': 10.73729515}, \n",
    "                  'Re': {'d_cen': -1.0633, 'rd': 0.8808808808808809, 'dij': 2.75, 'Wd': 10.99527175}, \n",
    "                  'Os': {'d_cen': -1.9693, 'rd': 0.8508508508508509, 'dij': 2.72, 'Wd': 10.63999091}, \n",
    "                  'Ir': {'d_cen': -2.6636, 'rd': 0.8208208208208209, 'dij': 2.74, 'Wd': 9.50224736}, \n",
    "                  'Pt': {'d_cen': -2.6369, 'rd': 0.7907907907907907, 'dij': 2.82, 'Wd': 7.638177581}, \n",
    "                  'Au': {'d_cen': -3.6577, 'rd': 0.7607607607607607, 'dij': 2.95, 'Wd': 5.83120117}}"
   ]
  },
  {
   "cell_type": "markdown",
   "metadata": {},
   "source": [
    "### Load pre-tabulated data of all the structures in the dataset and prepare for analysis"
   ]
  },
  {
   "cell_type": "code",
   "execution_count": 5,
   "metadata": {},
   "outputs": [],
   "source": [
    "#expand small slabs into large ones to account more neighboring atoms\n",
    "\n",
    "small_images = Trajectory('Data/clean_images.traj')\n",
    "copy_images = [image.copy() for image in small_images]\n",
    "expand_images = [copy_image.repeat((11,11,1)) for copy_image in copy_images]\n",
    "io.write('Data/enlarged_clean_images.traj',expand_images)\n",
    "small_images = Trajectory('Data/relaxed_clean_images.traj')\n",
    "copy_images = [image.copy() for image in small_images]\n",
    "expand_images = [copy_image.repeat((11,11,1)) for copy_image in copy_images]\n",
    "io.write('Data/relaxed_enlarged_clean_images.traj',expand_images)"
   ]
  },
  {
   "cell_type": "code",
   "execution_count": 6,
   "metadata": {},
   "outputs": [],
   "source": [
    "#Load all tabulated data based on the expanded slabs\n",
    "\n",
    "unrelax_small_images = Trajectory('Data/clean_images.traj')\n",
    "unrelax_images = Trajectory('Data/enlarged_clean_images.traj')\n",
    "relax_images = Trajectory('Data/relaxed_enlarged_clean_images.traj')\n",
    "tabulated_name = np.loadtxt('Data/Tabulated_names.txt',dtype='str')\n",
    "tabulated_nbr_index_sorted = np.loadtxt('Data/Tabulated_nbr_index_sorted.txt')[:,:12]\n",
    "tabulated_d_ij_sorted = np.loadtxt('Data/Tabulated_d_ij_sorted.txt')[:,:12]\n",
    "tabulated_site_index = np.loadtxt('Data/Tabulated_site_index.txt')\n",
    "tabulated_site_element = np.loadtxt('Data/Tabulated_site_element.txt',dtype='str')\n",
    "tabulated_mulliken = np.loadtxt('Data/Tabulated_mulliken.txt')\n",
    "tabulated_d_cen_inf = np.loadtxt('Data/Tabulated_d_cen_inf.txt')\n",
    "tabulated_full_width_inf = np.loadtxt('Data/Tabulated_full_width_inf.txt')"
   ]
  },
  {
   "cell_type": "markdown",
   "metadata": {},
   "source": [
    "### Load TinNet-predicted results"
   ]
  },
  {
   "cell_type": "code",
   "execution_count": 7,
   "metadata": {},
   "outputs": [],
   "source": [
    "parm = np.loadtxt('Data/combined_parm_idx_val_8_idx_test_9.txt')\n",
    "beta = parm[:,5]\n",
    "alpha = parm[:,6]\n",
    "tinnet_Wd = parm[:,4]\n",
    "dft_Wd = parm[:,3]\n",
    "tinnet_d_cen = parm[:,2]\n",
    "dft_d_cen = parm[:,1]\n",
    "zeta = np.load('Data/combined_zeta_idx_val_8_idx_test_9.npy')[:,:12,0]**(1/7)"
   ]
  },
  {
   "cell_type": "markdown",
   "metadata": {},
   "source": [
    "### Make Figure 3a"
   ]
  },
  {
   "cell_type": "markdown",
   "metadata": {},
   "source": [
    "Load and prepare data for learning curves, specifically, the average prediction errors of training dataset with different sizes for 4 models: FCNN, CGCNN, TinNet and physical model"
   ]
  },
  {
   "cell_type": "code",
   "execution_count": 8,
   "metadata": {},
   "outputs": [],
   "source": [
    "learning_curve_fcnn = np.loadtxt('Data/learning_curve_fcnn.txt')\n",
    "learning_curve_gcnn = np.loadtxt('Data/learning_curve_gcnn.txt')\n",
    "learning_curve_tinnet_4 = np.loadtxt('Data/learning_curve_tinnet_4.txt')\n",
    "learning_curve_tb = np.loadtxt('Data/learning_curve_tb.txt')\n",
    "percen = [1,\n",
    "          2,\n",
    "          3,\n",
    "          4,\n",
    "          5,\n",
    "          10,\n",
    "          15,\n",
    "          20,\n",
    "          25,\n",
    "          30,\n",
    "          35,\n",
    "          40,\n",
    "          45,\n",
    "          50,\n",
    "          55,\n",
    "          60,\n",
    "          65,\n",
    "          70,\n",
    "          75,\n",
    "          80,\n",
    "          85,\n",
    "          90,\n",
    "          95,\n",
    "          100]\n",
    "\n",
    "x_axis = np.array(percen)*0.01*12165 #12165 is the dataset size"
   ]
  },
  {
   "cell_type": "markdown",
   "metadata": {},
   "source": [
    "Plot learning curves"
   ]
  },
  {
   "cell_type": "code",
   "execution_count": 9,
   "metadata": {},
   "outputs": [
    {
     "data": {
      "text/plain": [
       "Text(0, 0.5, 'Mean absolute error (eV)')"
      ]
     },
     "execution_count": 9,
     "metadata": {},
     "output_type": "execute_result"
    },
    {
     "data": {
      "image/png": "[encoded data removed]",
      "text/plain": [
       "<Figure size 451.772x361.418 with 1 Axes>"
      ]
     },
     "metadata": {
      "needs_background": "light"
     },
     "output_type": "display_data"
    }
   ],
   "source": [
    "symbols = ['s','o','^','v','<','>','+','x','D','d'] # Symbol\n",
    "lps = [k+'-' for k in ['o','^','v','<','>','s','+','x','D','d']] # Line + Symbol\n",
    "colors= ['b','r','g','c','m','y','k','w'] # Color\n",
    "ms = 4\n",
    "ew = 1.5\n",
    "rcParams['figure.figsize'] = 2.5*1.5*1.67323,2.0*1.5*1.67323\n",
    "rcParams['ps.useafm'] = True\n",
    "plt.rc('font',**{'family':'sans-serif','sans-serif':['Helvetica']})\n",
    "mpl.rcParams['axes.linewidth'] = 1\n",
    "\n",
    "rcParams['pdf.fonttype'] = 42\n",
    "matplotlib.rc('xtick.major', size=6)\n",
    "matplotlib.rc('xtick.minor', size=3)\n",
    "matplotlib.rc('ytick.major', size=6)\n",
    "matplotlib.rc('ytick.minor', size=3)\n",
    "matplotlib.rc('lines', markeredgewidth=0.5*2)\n",
    "matplotlib.rc('font', size=7*2.0)\n",
    "\n",
    "fig, ax = plt.subplots()\n",
    "\n",
    "ax.plot(x_axis,\n",
    "           learning_curve_fcnn[:,0],\n",
    "           color = 'lightcoral',\n",
    "           linewidth = 1,\n",
    "           label=r'$\\rm FCNN$',\n",
    "           marker = '^',\n",
    "           markersize=4)\n",
    "\n",
    "ax.plot(x_axis,\n",
    "           learning_curve_gcnn[:,0],\n",
    "           color = 'orange',\n",
    "           linewidth = 1,\n",
    "           label=r'$\\rm CGCNN$',\n",
    "           marker = 'v',\n",
    "           markersize=4)\n",
    "\n",
    "ax.plot(x_axis,\n",
    "           learning_curve_tinnet_4[:,0],\n",
    "           color = 'lightseagreen',\n",
    "           linewidth = 1,\n",
    "           label=r'$\\rm TinNet$',\n",
    "           marker = 's',\n",
    "           markersize=4)\n",
    "\n",
    "ax.plot(x_axis,\n",
    "           learning_curve_tb[:,0],\n",
    "           color = 'gray',\n",
    "           linewidth = 1,\n",
    "           label= 'Physical model',\n",
    "           marker = 'o',\n",
    "           markersize=4)\n",
    "\n",
    "ax.errorbar(x_axis, learning_curve_fcnn[:,0], yerr=learning_curve_fcnn[:,1], color='lightcoral',capsize = 5,elinewidth=1)\n",
    "ax.errorbar(x_axis, learning_curve_gcnn[:,0], yerr=learning_curve_gcnn[:,1], color='orange',capsize = 5,elinewidth=1)\n",
    "ax.errorbar(x_axis, learning_curve_tinnet_4[:,0], yerr=learning_curve_tinnet_4[:,1], color='lightseagreen',capsize = 5,elinewidth=1)\n",
    "\n",
    "ax.set_ylim([0, 0.60])\n",
    "\n",
    "\n",
    "plt.minorticks_on()\n",
    "plt.tick_params(axis=\"y\",direction=\"in\",which='both')\n",
    "plt.tick_params(axis=\"x\",direction=\"in\",which='both')\n",
    "\n",
    "ax.legend(loc='upper center',frameon = False)\n",
    "\n",
    "ax.set_xscale('log')\n",
    "\n",
    "ax.set_yticks([0.1,0.2,0.3,0.4,0.5,0.6])\n",
    "\n",
    "ax.set_xlabel('# of samples')\n",
    "ax.set_ylabel('Mean absolute error (eV)')\n",
    "#plt.savefig('../../Learning_curve.png', format='png',transparent = True,dpi=600, bbox_inches='tight')"
   ]
  },
  {
   "cell_type": "markdown",
   "metadata": {},
   "source": [
    "### Make Figure 3b"
   ]
  },
  {
   "cell_type": "markdown",
   "metadata": {},
   "source": [
    "Load related data of parity plot, specifically, the mean and standard deviation of TinNet-prediction values based on cross validations."
   ]
  },
  {
   "cell_type": "code",
   "execution_count": 10,
   "metadata": {},
   "outputs": [],
   "source": [
    "tinnet_4_100_avg = np.loadtxt('Data/tinnet_4_1.00_avg.txt')\n",
    "tinnet_4_100_std = np.loadtxt('Data/tinnet_4_1.00_std.txt')"
   ]
  },
  {
   "cell_type": "markdown",
   "metadata": {},
   "source": [
    "Make the parity plot between DFT-calculated and TinNet-predicted d-band center"
   ]
  },
  {
   "cell_type": "code",
   "execution_count": 11,
   "metadata": {},
   "outputs": [
    {
     "name": "stderr",
     "output_type": "stream",
     "text": [
      "No handles with labels found to put in legend.\n"
     ]
    },
    {
     "data": {
      "text/plain": [
       "([<matplotlib.axis.YTick at 0x1408af390>,\n",
       "  <matplotlib.axis.YTick at 0x142402780>,\n",
       "  <matplotlib.axis.YTick at 0x1423fbb00>,\n",
       "  <matplotlib.axis.YTick at 0x140b2a748>,\n",
       "  <matplotlib.axis.YTick at 0x140b2ad68>,\n",
       "  <matplotlib.axis.YTick at 0x140b2a0f0>],\n",
       " <a list of 6 Text yticklabel objects>)"
      ]
     },
     "execution_count": 11,
     "metadata": {},
     "output_type": "execute_result"
    },
    {
     "data": {
      "image/png": "[encoded data removed]",
      "text/plain": [
       "<Figure size 361.418x325.276 with 1 Axes>"
      ]
     },
     "metadata": {
      "needs_background": "light"
     },
     "output_type": "display_data"
    }
   ],
   "source": [
    "symbols = ['s','o','^','v','<','>','+','x','D','d'] # Symbol\n",
    "lps = [k+'-' for k in ['o','^','v','<','>','s','+','x','D','d']] # Line + Symbol\n",
    "colors= ['b','r','g','c','m','y','k','w'] # Color\n",
    "ms = 4\n",
    "ew = 1.5\n",
    "rcParams['figure.figsize'] = 2.0*1.5*1.67323,1.8*1.5*1.67323\n",
    "rcParams['ps.useafm'] = True\n",
    "plt.rc('font',**{'family':'sans-serif','sans-serif':['Helvetica']})\n",
    "mpl.rcParams['axes.linewidth'] = 1\n",
    "\n",
    "rcParams['pdf.fonttype'] = 42\n",
    "matplotlib.rc('xtick.major', size=6)\n",
    "matplotlib.rc('xtick.minor', size=3)\n",
    "matplotlib.rc('ytick.major', size=6)\n",
    "matplotlib.rc('ytick.minor', size=3)\n",
    "matplotlib.rc('lines', markeredgewidth=0.5*2)\n",
    "matplotlib.rc('font', size=7*2.0)\n",
    "\n",
    "fig, ax = plt.subplots()\n",
    "\n",
    "X = tinnet_4_100_avg[:,1]\n",
    "y = tinnet_4_100_avg[:,2]\n",
    "\n",
    "ax.scatter(X,\n",
    "           y,\n",
    "           marker = 'v',\n",
    "           edgecolor = 'None',\n",
    "           facecolors='skyblue',\n",
    "           linewidth = 0.5,\n",
    "           label = '',\n",
    "           s = 5)\n",
    "\n",
    "ax.errorbar(X, y, yerr=tinnet_4_100_std[:,2], color='skyblue', linestyle='', linewidth = 0.8, capthick=0.3, capsize=2, zorder=-32, alpha=1.0)\n",
    "\n",
    "\n",
    "\n",
    "plt.plot([-5.5,0.5], [-5.5,.5], color='gray', linestyle='--', linewidth=0.5)\n",
    "\n",
    "plt.legend(frameon=False)\n",
    "\n",
    "ax.set_xlabel(r'$\\epsilon_{d}^{\\rm DFT}$ (eV)')\n",
    "ax.set_ylabel(r'$\\epsilon_{d}^{\\rm TinNet}$ (eV)')\n",
    "\n",
    "plt.xlim([-5.5,0.5])\n",
    "plt.ylim([-5.5,0.5])\n",
    "\n",
    "plt.minorticks_on()\n",
    "plt.tick_params(axis=\"y\",direction=\"in\",which='both')\n",
    "plt.tick_params(axis=\"x\",direction=\"in\",which='both')\n",
    "\n",
    "plt.xticks([-5,-4,-3,-2,-1,0])\n",
    "plt.yticks([-5,-4,-3,-2,-1,0])\n",
    "\n",
    "\n",
    "#fig.savefig('../../parity.PNG', bbox_inches='tight',dpi=600)\n"
   ]
  },
  {
   "cell_type": "markdown",
   "metadata": {},
   "source": [
    "Visualize the distribution of the DFT-calculated d-band center "
   ]
  },
  {
   "cell_type": "code",
   "execution_count": 12,
   "metadata": {},
   "outputs": [
    {
     "data": {
      "image/png": "[encoded data removed]",
      "text/plain": [
       "<Figure size 451.772x126.496 with 1 Axes>"
      ]
     },
     "metadata": {
      "needs_background": "light"
     },
     "output_type": "display_data"
    }
   ],
   "source": [
    "symbols = ['s','o','^','v','<','>','+','x','D','d'] # Symbol\n",
    "lps = [k+'-' for k in ['o','^','v','<','>','s','+','x','D','d']] # Line + Symbol\n",
    "colors= ['b','r','g','c','m','y','k','w'] # Color\n",
    "ms = 4\n",
    "ew = 1.5\n",
    "rcParams['figure.figsize'] = 2.5*1.5*1.67323,0.7*1.5*1.67323\n",
    "rcParams['ps.useafm'] = True\n",
    "plt.rc('font',**{'family':'sans-serif','sans-serif':['Helvetica']})\n",
    "mpl.rcParams['axes.linewidth'] = 1\n",
    "\n",
    "rcParams['pdf.fonttype'] = 42\n",
    "matplotlib.rc('xtick.major', size=6)\n",
    "matplotlib.rc('xtick.minor', size=3)\n",
    "matplotlib.rc('ytick.major', size=6)\n",
    "matplotlib.rc('ytick.minor', size=3)\n",
    "matplotlib.rc('lines', markeredgewidth=0.5*2)\n",
    "matplotlib.rc('font', size=7*2.0)\n",
    "\n",
    "fig, ax1 = plt.subplots()\n",
    "\n",
    "\n",
    "plt.hist(X,80,(-5.5,1),alpha = 1,color='skyblue',density=True)\n",
    "\n",
    "mu, std = norm.fit(X)\n",
    "x = np.linspace(-5.5, 1, 50)\n",
    "p = norm.pdf(x, mu, std)\n",
    "#plt.plot(x, p, '--' 'k', linewidth=1)\n",
    "\n",
    "plt.xlim([-5.5,1])\n",
    "\n",
    "plt.tick_params(axis=\"y\",direction=\"out\",which='both')\n",
    "plt.tick_params(axis=\"x\",direction=\"out\",which='both')\n",
    "plt.xticks([-5,-3,-1,1])\n",
    "#plt.xticks([])\n",
    "plt.yticks([])\n",
    "\n",
    "ax1.spines['top'].set_visible(False)\n",
    "ax1.spines['left'].set_visible(False)\n",
    "ax1.spines['right'].set_visible(False)\n",
    "\n",
    "#ax1.set_xlabel(r'$\\epsilon_{d}^{\\rm DFT}$ (eV)')\n",
    "\n",
    "#plt.savefig('../../parity_histogram.png', format='png',transparent = True,dpi=600, bbox_inches='tight')"
   ]
  },
  {
   "cell_type": "markdown",
   "metadata": {},
   "source": [
    "Visualize the prediction error distribution"
   ]
  },
  {
   "cell_type": "code",
   "execution_count": 13,
   "metadata": {},
   "outputs": [
    {
     "data": {
      "text/plain": [
       "([], <a list of 0 Text yticklabel objects>)"
      ]
     },
     "execution_count": 13,
     "metadata": {},
     "output_type": "execute_result"
    },
    {
     "data": {
      "image/png": "[encoded data removed]",
      "text/plain": [
       "<Figure size 108.425x108.425 with 1 Axes>"
      ]
     },
     "metadata": {
      "needs_background": "light"
     },
     "output_type": "display_data"
    }
   ],
   "source": [
    "symbols = ['s','o','^','v','<','>','+','x','D','d'] # Symbol\n",
    "lps = [k+'-' for k in ['o','^','v','<','>','s','+','x','D','d']] # Line + Symbol\n",
    "colors= ['b','r','g','c','m','y','k','w'] # Color\n",
    "ms = 4\n",
    "ew = 1.5\n",
    "rcParams['figure.figsize'] = 0.6*1.5*1.67323,0.6*1.5*1.67323\n",
    "rcParams['ps.useafm'] = True\n",
    "plt.rc('font',**{'family':'sans-serif','sans-serif':['Helvetica']})\n",
    "mpl.rcParams['axes.linewidth'] = 1\n",
    "\n",
    "rcParams['pdf.fonttype'] = 42\n",
    "matplotlib.rc('xtick.major', size=6)\n",
    "matplotlib.rc('xtick.minor', size=3)\n",
    "matplotlib.rc('ytick.major', size=6)\n",
    "matplotlib.rc('ytick.minor', size=3)\n",
    "matplotlib.rc('lines', markeredgewidth=0.5*2)\n",
    "matplotlib.rc('font', size=5*2.0)\n",
    "\n",
    "fig, ax1 = plt.subplots()\n",
    "\n",
    "\n",
    "plt.hist(X-y,200,alpha = 1,color='gray',density=True)\n",
    "mu, std = norm.fit(X-y)\n",
    "x = np.linspace(-0.2, 0.2, 500)\n",
    "p = norm.pdf(x, mu, std)\n",
    "#plt.plot(x, p, '--' 'k', linewidth=1)\n",
    "plt.xlim([-0.2,0.2])\n",
    "plt.minorticks_on()\n",
    "#plt.tick_params(axis=\"y\",direction=\"in\",which='both')\n",
    "plt.tick_params(axis=\"x\",direction=\"in\",which='both')\n",
    "\n",
    "plt.yticks([])\n",
    "\n",
    "#plt.savefig('../../parity_histogram_error.png', format='png',transparent = True,dpi=600, bbox_inches='tight')"
   ]
  },
  {
   "cell_type": "markdown",
   "metadata": {},
   "source": [
    "### Make Figure 4a"
   ]
  },
  {
   "cell_type": "markdown",
   "metadata": {},
   "source": [
    "Plot the distribution of all the physical parameters predicted by TinNet, with the same bin size or density."
   ]
  },
  {
   "cell_type": "code",
   "execution_count": 14,
   "metadata": {},
   "outputs": [
    {
     "data": {
      "image/png": "[encoded data removed]",
      "text/plain": [
       "<Figure size 451.772x361.418 with 1 Axes>"
      ]
     },
     "metadata": {
      "needs_background": "light"
     },
     "output_type": "display_data"
    }
   ],
   "source": [
    "symbols = ['s','o','^','v','<','>','+','x','D','d'] # Symbol\n",
    "lps = [k+'-' for k in ['o','^','v','<','>','s','+','x','D','d']] # Line + Symbol\n",
    "colors= ['b','r','g','c','m','y','k','w'] # Color\n",
    "ms = 4\n",
    "ew = 1.5\n",
    "rcParams['figure.figsize'] = 2.5*1.5*1.67323,2.0*1.5*1.67323\n",
    "rcParams['ps.useafm'] = True\n",
    "plt.rc('font',**{'family':'sans-serif','sans-serif':['Helvetica']})\n",
    "mpl.rcParams['axes.linewidth'] = 1\n",
    "\n",
    "rcParams['pdf.fonttype'] = 42\n",
    "matplotlib.rc('xtick.major', size=6)\n",
    "matplotlib.rc('xtick.minor', size=3)\n",
    "matplotlib.rc('ytick.major', size=6)\n",
    "matplotlib.rc('ytick.minor', size=3)\n",
    "matplotlib.rc('lines', markeredgewidth=0.5*2)\n",
    "matplotlib.rc('font', size=7*2.0)\n",
    "\n",
    "fig, ax1 = plt.subplots()\n",
    "\n",
    "ax1.xaxis.set_major_formatter(FormatStrFormatter('%.1f'))\n",
    "\n",
    "\n",
    "plt.hist(alpha/(12**0.5),150,alpha = 0.6,color='orange',weights=np.ones_like(beta)/len(relax_images)*100,label=r'$\\alpha$')\n",
    "plt.hist(beta,19,alpha = 0.6,color='green',weights=np.ones_like(beta)/len(relax_images)*100*0.02,label=r'$\\beta$')\n",
    "plt.hist(zeta.ravel(),44,alpha = 0.6,color='skyblue',weights=np.ones_like(zeta.ravel())/len(zeta.ravel())*100*0.25,label=r'$\\zeta$')\n",
    "plt.xlim([-0.5,2])\n",
    "plt.ylim([0,5])\n",
    "plt.xticks([-0.5,0,0.5,1,1.5,2])\n",
    "plt.yticks([1,2,3,4,5])\n",
    "plt.ylabel('Relative frequency (%)')\n",
    "plt.xlabel('Physical parameter value')\n",
    "plt.legend(frameon=False)\n",
    "\n",
    "ax1.minorticks_on()\n",
    "\n",
    "ax1.tick_params(axis=\"x\",direction=\"in\",which='both')\n",
    "ax1.tick_params(axis=\"y\",direction=\"in\",which='both')\n",
    "\n",
    "#plt.savefig('physical_paramters_frequency.png', format='png',transparent = True,dpi=600, bbox_inches='tight')"
   ]
  },
  {
   "cell_type": "markdown",
   "metadata": {},
   "source": [
    "Make a separate histogram for $\\beta$ to show its distribution details"
   ]
  },
  {
   "cell_type": "code",
   "execution_count": 15,
   "metadata": {},
   "outputs": [
    {
     "data": {
      "image/png": "[encoded data removed]",
      "text/plain": [
       "<Figure size 180.709x180.709 with 1 Axes>"
      ]
     },
     "metadata": {
      "needs_background": "light"
     },
     "output_type": "display_data"
    }
   ],
   "source": [
    "symbols = ['s','o','^','v','<','>','+','x','D','d'] # Symbol\n",
    "lps = [k+'-' for k in ['o','^','v','<','>','s','+','x','D','d']] # Line + Symbol\n",
    "colors= ['b','r','g','c','m','y','k','w'] # Color\n",
    "ms = 4\n",
    "ew = 1.5\n",
    "rcParams['figure.figsize'] = 1*1.5*1.67323,1*1.5*1.67323\n",
    "rcParams['ps.useafm'] = True\n",
    "plt.rc('font',**{'family':'sans-serif','sans-serif':['Helvetica']})\n",
    "mpl.rcParams['axes.linewidth'] = 1\n",
    "\n",
    "rcParams['pdf.fonttype'] = 42\n",
    "matplotlib.rc('xtick.major', size=6)\n",
    "matplotlib.rc('xtick.minor', size=3)\n",
    "matplotlib.rc('ytick.major', size=6)\n",
    "matplotlib.rc('ytick.minor', size=3)\n",
    "matplotlib.rc('lines', markeredgewidth=0.5*2)\n",
    "matplotlib.rc('font', size=7*2.0)\n",
    "\n",
    "fig, ax1 = plt.subplots()\n",
    "\n",
    "plt.hist(beta,80,(0,0.006),alpha = 0.6,color='green',weights=np.ones_like(beta)/len(relax_images)*100,label=r'$\\beta$')\n",
    "\n",
    "plt.ylim([0,10])\n",
    "plt.yticks([5.0,10])\n",
    "\n",
    "ax1.minorticks_on()\n",
    "ax1.tick_params(axis=\"x\",direction=\"in\",which='both')\n",
    "ax1.tick_params(axis=\"y\",direction=\"in\",which='both')\n",
    "\n",
    "#plt.savefig('physical_paramters_frequency_beta.png', format='png',transparent = True,dpi=600, bbox_inches='tight')"
   ]
  },
  {
   "cell_type": "markdown",
   "metadata": {},
   "source": [
    "### Make Figure 4b"
   ]
  },
  {
   "cell_type": "markdown",
   "metadata": {},
   "source": [
    "For SHAP analysis in this work, we use the pure metal surface with the same element and facet as the base to compare with, so we need to group the dataset based on the facet, i.e. FCC111 and FCC100 (The main two components of the dataset and occupy over 92% of the overall data points. Some pure surfaces in FCC211 are not converged in DFT-calculations, so we do not use FCC211 for SHAP analysis)"
   ]
  },
  {
   "cell_type": "code",
   "execution_count": 67,
   "metadata": {},
   "outputs": [],
   "source": [
    "#Locate all FCC111 structures, perform SHAP analsysis and save the Shapley value of each parameter\n",
    "\n",
    "\n",
    "base_facet = '111'\n",
    "number_nbr = 12\n",
    "\n",
    "base_facet_idx = []\n",
    "for i in range(len(relax_images)):\n",
    "    if tabulated_name[i][:3]==base_facet:\n",
    "        base_facet_idx.append(i)\n",
    "base_facet_nbr_element = []\n",
    "for idx in base_facet_idx:\n",
    "    base_facet_nbr_element.append([unrelax_images[idx][j].symbol for j in tabulated_nbr_index_sorted[idx].astype(int)])\n",
    "base_facet_rd_nbr = np.array([[reference_data[base_facet_nbr_element[i][j]]['rd'] for j in range(number_nbr)] for i in range(len(base_facet_idx))])\n",
    "\n",
    "selected_delta_cen = []\n",
    "\n",
    "selected_rdj = []\n",
    "selected_dij = []\n",
    "selected_zeta = []\n",
    "selected_beta = []\n",
    "selected_alpha = []\n",
    "selected_mulliken = []\n",
    "\n",
    "selected_idx = base_facet_idx\n",
    "\n",
    "for kk in range(len(selected_idx)):\n",
    "    \n",
    "    idx = selected_idx[kk]   \n",
    "    base_element = tabulated_site_element[idx]\n",
    "    ref_ratio = reference_data[base_element]['d_cen']/reference_data[base_element]['Wd']\n",
    "    base_idx = np.where(tabulated_name==base_facet+'_'+base_element+'_1.000')[0][0]\n",
    "    test_idx = np.int64(selected_idx[kk])\n",
    "    \n",
    "    selected_delta_cen.append(tinnet_d_cen[test_idx] - tinnet_d_cen[base_idx])\n",
    "\n",
    "    base_inner_idx = np.where(base_facet_idx==base_idx)[0][0]\n",
    "    test_inner_idx = np.where(base_facet_idx==test_idx)[0][0]\n",
    "    base_X_W = np.array([[0.0]*(number_nbr*3+3)])\n",
    "    for i in range(number_nbr):\n",
    "        base_X_W[0][3*i+0]=base_facet_rd_nbr[base_inner_idx][i]\n",
    "        base_X_W[0][3*i+1]=tabulated_d_ij_sorted[base_idx][i]\n",
    "        base_X_W[0][3*i+2]=zeta[base_idx][i]\n",
    "    base_X_W[0][-3] = alpha[base_idx]\n",
    "    base_X_W[0][-2] = beta[base_idx]\n",
    "    base_X_W[0][-1] = tabulated_mulliken[base_idx]\n",
    "\n",
    "    test_X_W = np.array([[0.0]*(number_nbr*3+3)])\n",
    "    for i in range(number_nbr):\n",
    "        test_X_W[0][3*i+0]=base_facet_rd_nbr[test_inner_idx][i]\n",
    "        test_X_W[0][3*i+1]=tabulated_d_ij_sorted[test_idx][i]\n",
    "        test_X_W[0][3*i+2]=zeta[test_idx][i]\n",
    "    test_X_W[0][-3] = alpha[test_idx]\n",
    "    test_X_W[0][-2] = beta[test_idx]\n",
    "    test_X_W[0][-1] = tabulated_mulliken[test_idx]\n",
    "\n",
    "    explainer = shap.Explainer(d_center, base_X_W)\n",
    "    shap_values = explainer(test_X_W)\n",
    "    \n",
    "    rdj_ = 0\n",
    "    dij_ = 0\n",
    "    zeta_ = 0\n",
    "\n",
    "    alpha_ = shap_values.values[0][-3]\n",
    "    beta_ = shap_values.values[0][-2]\n",
    "    mulliken_ = shap_values.values[0][-1]\n",
    "\n",
    "    selected_alpha.append(alpha_)\n",
    "    selected_beta.append(beta_)\n",
    "    selected_mulliken.append(mulliken_)\n",
    "    \n",
    "    for i in range(number_nbr):\n",
    "        rdj_ += shap_values.values[0][3*i+0]\n",
    "        dij_ += shap_values.values[0][3*i+1]\n",
    "        zeta_ += shap_values.values[0][3*i+2]\n",
    "\n",
    "    selected_rdj.append(rdj_)\n",
    "    selected_dij.append(dij_)\n",
    "    selected_zeta.append(zeta_)\n",
    "\n",
    "FCC111_SHAP_dic = {'delt_cen':selected_delta_cen,'rdj':selected_rdj, 'dij':selected_dij, 'alpha':selected_alpha, 'mulliken':selected_mulliken, 'beta':selected_beta, 'zeta':selected_zeta}\n",
    "FCC111_SHAP_df = pd.DataFrame(FCC111_SHAP_dic)\n",
    "FCC111_SHAP_df.to_csv('FCC111_SHAP.csv')"
   ]
  },
  {
   "cell_type": "code",
   "execution_count": 69,
   "metadata": {},
   "outputs": [],
   "source": [
    "#Locate all FCC100 structures, perform SHAP analsysis and save the Shapley value of each parameter\n",
    "\n",
    "base_facet = '100'\n",
    "number_nbr = 12\n",
    "\n",
    "base_facet_idx = []\n",
    "for i in range(len(relax_images)):\n",
    "    if tabulated_name[i][:3]==base_facet:\n",
    "        base_facet_idx.append(i)\n",
    "base_facet_nbr_element = []\n",
    "for idx in base_facet_idx:\n",
    "    base_facet_nbr_element.append([unrelax_images[idx][j].symbol for j in tabulated_nbr_index_sorted[idx].astype(int)])\n",
    "base_facet_rd_nbr = np.array([[reference_data[base_facet_nbr_element[i][j]]['rd'] for j in range(number_nbr)] for i in range(len(base_facet_idx))])\n",
    "\n",
    "selected_delta_cen = []\n",
    "\n",
    "selected_rdj = []\n",
    "selected_dij = []\n",
    "selected_zeta = []\n",
    "selected_beta = []\n",
    "selected_alpha = []\n",
    "selected_mulliken = []\n",
    "\n",
    "selected_idx = base_facet_idx\n",
    "\n",
    "for kk in range(len(selected_idx)):\n",
    "    \n",
    "    idx = selected_idx[kk]   \n",
    "    base_element = tabulated_site_element[idx]\n",
    "    ref_ratio = reference_data[base_element]['d_cen']/reference_data[base_element]['Wd']\n",
    "    base_idx = np.where(tabulated_name==base_facet+'_'+base_element+'_1.000')[0][0]\n",
    "    test_idx = np.int64(selected_idx[kk])\n",
    "    \n",
    "    selected_delta_cen.append(tinnet_d_cen[test_idx] - tinnet_d_cen[base_idx])\n",
    "\n",
    "    base_inner_idx = np.where(base_facet_idx==base_idx)[0][0]\n",
    "    test_inner_idx = np.where(base_facet_idx==test_idx)[0][0]\n",
    "    base_X_W = np.array([[0.0]*(number_nbr*3+3)])\n",
    "    for i in range(number_nbr):\n",
    "        base_X_W[0][3*i+0]=base_facet_rd_nbr[base_inner_idx][i]\n",
    "        base_X_W[0][3*i+1]=tabulated_d_ij_sorted[base_idx][i]\n",
    "        base_X_W[0][3*i+2]=zeta[base_idx][i]\n",
    "    base_X_W[0][-3] = alpha[base_idx]\n",
    "    base_X_W[0][-2] = beta[base_idx]\n",
    "    base_X_W[0][-1] = tabulated_mulliken[base_idx]\n",
    "\n",
    "    test_X_W = np.array([[0.0]*(number_nbr*3+3)])\n",
    "    for i in range(number_nbr):\n",
    "        test_X_W[0][3*i+0]=base_facet_rd_nbr[test_inner_idx][i]\n",
    "        test_X_W[0][3*i+1]=tabulated_d_ij_sorted[test_idx][i]\n",
    "        test_X_W[0][3*i+2]=zeta[test_idx][i]\n",
    "    test_X_W[0][-3] = alpha[test_idx]\n",
    "    test_X_W[0][-2] = beta[test_idx]\n",
    "    test_X_W[0][-1] = tabulated_mulliken[test_idx]\n",
    "\n",
    "    explainer = shap.Explainer(d_center, base_X_W)\n",
    "    shap_values = explainer(test_X_W)\n",
    "    \n",
    "    rdj_ = 0\n",
    "    dij_ = 0\n",
    "    zeta_ = 0\n",
    "\n",
    "    alpha_ = shap_values.values[0][-3]\n",
    "    beta_ = shap_values.values[0][-2]\n",
    "    mulliken_ = shap_values.values[0][-1]\n",
    "\n",
    "    selected_alpha.append(alpha_)\n",
    "    selected_beta.append(beta_)\n",
    "    selected_mulliken.append(mulliken_)\n",
    "    \n",
    "    for i in range(number_nbr):\n",
    "        rdj_ += shap_values.values[0][3*i+0]\n",
    "        dij_ += shap_values.values[0][3*i+1]\n",
    "        zeta_ += shap_values.values[0][3*i+2]\n",
    "\n",
    "    selected_rdj.append(rdj_)\n",
    "    selected_dij.append(dij_)\n",
    "    selected_zeta.append(zeta_)\n",
    "\n",
    "\n",
    "FCC100_SHAP_dic = {'delt_cen':selected_delta_cen,'rdj':selected_rdj, 'dij':selected_dij, 'alpha':selected_alpha, 'mulliken':selected_mulliken, 'beta':selected_beta, 'zeta':selected_zeta}\n",
    "FCC100_SHAP_df = pd.DataFrame(FCC111_SHAP_dic)\n",
    "FCC100_SHAP_df.to_csv('FCC100_SHAP.csv')"
   ]
  },
  {
   "cell_type": "markdown",
   "metadata": {},
   "source": [
    "Plot distribution of Shapley values of all the physical parameters"
   ]
  },
  {
   "cell_type": "code",
   "execution_count": 84,
   "metadata": {},
   "outputs": [
    {
     "data": {
      "image/png": "[encoded data removed]",
      "text/plain": [
       "<Figure size 451.772x361.418 with 4 Axes>"
      ]
     },
     "metadata": {
      "needs_background": "light"
     },
     "output_type": "display_data"
    }
   ],
   "source": [
    "symbols = ['s','o','^','v','<','>','+','x','D','d'] # Symbol\n",
    "lps = [k+'-' for k in ['o','^','v','<','>','s','+','x','D','d']] # Line + Symbol\n",
    "colors= ['b','r','g','c','m','y','k','w'] # Color\n",
    "ms = 4\n",
    "ew = 1.5\n",
    "rcParams['figure.figsize'] = 2.5*1.5*1.67323,2.0*1.5*1.67323\n",
    "rcParams['ps.useafm'] = True\n",
    "plt.rc('font',**{'family':'sans-serif','sans-serif':['Helvetica']})\n",
    "mpl.rcParams['axes.linewidth'] = 1\n",
    "\n",
    "rcParams['pdf.fonttype'] = 42\n",
    "matplotlib.rc('xtick.major', size=6)\n",
    "matplotlib.rc('xtick.minor', size=3)\n",
    "matplotlib.rc('ytick.major', size=6)\n",
    "matplotlib.rc('ytick.minor', size=3)\n",
    "matplotlib.rc('lines', markeredgewidth=0.5*2)\n",
    "matplotlib.rc('font', size=7*2.0)\n",
    "\n",
    "fig, ax1 = plt.subplots()\n",
    "\n",
    "plt.subplots_adjust(wspace=0, hspace=0.15)\n",
    "\n",
    "\n",
    "bbin = 400\n",
    "xll = -2\n",
    "xhh = 2\n",
    "\n",
    "xl = -0.4\n",
    "xh = 0.4\n",
    "yh = 6\n",
    "\n",
    "data_length = len(FCC111_SHAP_df['beta']) + len(FCC100_SHAP_df['beta'])\n",
    "length_array = np.array(list(range(data_length)))\n",
    "\n",
    "weig = np.ones_like(length_array)/len(length_array)*100\n",
    "\n",
    "plt.subplot(4,1,1)\n",
    "plt.hist(np.array(list(FCC111_SHAP_df['beta'])+list(FCC100_SHAP_df['beta']))+np.array(list(FCC111_SHAP_df['mulliken'])+list(FCC100_SHAP_df['mulliken'])),bbin,(xll,xhh),alpha = 0.6,color='green',weights=weig*0.15,label='electron transfer')\n",
    "plt.xlim([xl,xh])\n",
    "plt.ylim([0,yh])\n",
    "plt.xticks([])\n",
    "plt.yticks([2,4])\n",
    "plt.vlines(0.01,ymin=0,ymax=3,colors='gray',linestyles='-',linewidth=1.5)\n",
    "plt.minorticks_on()\n",
    "plt.tick_params(axis=\"y\",direction=\"in\",which='both')\n",
    "plt.tick_params(axis=\"x\",direction=\"in\",which='both')\n",
    "\n",
    "plt.subplot(4,1,2)\n",
    "plt.hist(np.array(list(FCC111_SHAP_df['dij'])+list(FCC100_SHAP_df['dij']))+np.array(list(FCC111_SHAP_df['zeta'])+list(FCC100_SHAP_df['zeta'])),bbin,(xll,xhh),alpha = 0.6,color='skyblue',weights=weig,label='strain effect')\n",
    "plt.xlim([xl,xh])\n",
    "plt.ylim([0,yh])\n",
    "plt.xticks([])\n",
    "plt.yticks([2,4])\n",
    "plt.vlines(0.15,ymin=0,ymax=3,colors='gray',linestyles='-',linewidth=1.5)\n",
    "plt.minorticks_on()\n",
    "plt.tick_params(axis=\"y\",direction=\"in\",which='both')\n",
    "plt.tick_params(axis=\"x\",direction=\"in\",which='both')\n",
    "plt.ylabel('Relative frequency (%)')\n",
    "\n",
    "plt.subplot(4,1,3)\n",
    "plt.hist(np.array(list(FCC111_SHAP_df['rdj'])+list(FCC100_SHAP_df['rdj'])),bbin,(xll,xhh),alpha = 0.6,color='pink',weights=weig,label='ligand')\n",
    "plt.xlim([xl,xh])\n",
    "plt.ylim([0,yh])\n",
    "plt.xticks([])\n",
    "plt.yticks([2,4])\n",
    "plt.vlines(0.15,ymin=0,ymax=3,colors='gray',linestyles='-',linewidth=1.5)\n",
    "plt.minorticks_on()\n",
    "plt.tick_params(axis=\"y\",direction=\"in\",which='both')\n",
    "plt.tick_params(axis=\"x\",direction=\"in\",which='both')\n",
    "\n",
    "plt.subplot(4,1,4)\n",
    "plt.hist(np.array(list(FCC111_SHAP_df['alpha'])+list(FCC100_SHAP_df['alpha'])),bbin,(xll,xhh),alpha = 0.4,color='orange',weights=weig,label='resonance effect')\n",
    "plt.xlim([xl,xh])\n",
    "plt.ylim([0,yh])\n",
    "plt.xticks([-0.4,-0.2,0,0.2,0.4])\n",
    "plt.yticks([2,4])\n",
    "plt.vlines(0.20,ymin=0,ymax=3,colors='gray',linestyles='-',linewidth=1.5)\n",
    "plt.minorticks_on()\n",
    "plt.tick_params(axis=\"y\",direction=\"in\",which='both')\n",
    "plt.tick_params(axis=\"x\",direction=\"in\",which='both')\n",
    "plt.xlabel('Shapley value (eV)')\n",
    "\n",
    "#plt.savefig('merge_abs_shap_global_SHAP_frequency.png', format='png',transparent = True,dpi=600, bbox_inches='tight')"
   ]
  },
  {
   "cell_type": "markdown",
   "metadata": {},
   "source": [
    "Calculate the mean of absoluate Shapley value of each effect"
   ]
  },
  {
   "cell_type": "code",
   "execution_count": 73,
   "metadata": {},
   "outputs": [
    {
     "name": "stdout",
     "output_type": "stream",
     "text": [
      "0.011104837069698323\n",
      "0.15477776321191192\n",
      "0.15384268781302668\n",
      "0.20061138306326806\n"
     ]
    }
   ],
   "source": [
    "miu_resonance = abs(np.array(list(FCC111_SHAP_df['alpha'])+list(FCC100_SHAP_df['alpha']))).mean()\n",
    "miu_ligand = abs(np.array(list(FCC111_SHAP_df['rdj'])+list(FCC100_SHAP_df['rdj']))).mean()\n",
    "miu_strain = abs(np.array(list(FCC111_SHAP_df['zeta'])+list(FCC100_SHAP_df['zeta']))+np.array(list(FCC111_SHAP_df['dij'])+list(FCC100_SHAP_df['dij']))).mean()\n",
    "miu_electron_transfer = abs(np.array(list(FCC111_SHAP_df['beta'])+list(FCC100_SHAP_df['beta']))+np.array(list(FCC111_SHAP_df['mulliken'])+list(FCC100_SHAP_df['mulliken']))).mean()\n",
    "\n",
    "print(miu_electron_transfer)\n",
    "print(miu_strain)\n",
    "print(miu_ligand)\n",
    "print(miu_resonance)"
   ]
  },
  {
   "cell_type": "markdown",
   "metadata": {},
   "source": [
    "### Make Figure 5"
   ]
  },
  {
   "cell_type": "markdown",
   "metadata": {},
   "source": [
    "Locate all the Pt-on-M monolayer structures"
   ]
  },
  {
   "cell_type": "code",
   "execution_count": 16,
   "metadata": {},
   "outputs": [],
   "source": [
    "dij_element_sort = ['Co', 'Ni', 'Cu', 'Os', 'Ru', 'Rh', 'Re', 'Ir', 'Pd', 'Au', 'Ag']\n",
    "ML_idx = np.array([np.where(tabulated_name == '111_M-Pt_'+ele)[0][0] for ele in dij_element_sort])"
   ]
  },
  {
   "cell_type": "markdown",
   "metadata": {},
   "source": [
    "Calculate all the Shapley values"
   ]
  },
  {
   "cell_type": "code",
   "execution_count": 17,
   "metadata": {},
   "outputs": [],
   "source": [
    "base_facet = '111'\n",
    "number_nbr = 12\n",
    "\n",
    "base_facet_idx = []\n",
    "for i in range(len(relax_images)):\n",
    "    if tabulated_name[i][:3]==base_facet:\n",
    "        base_facet_idx.append(i)\n",
    "base_facet_nbr_element = []\n",
    "for idx in base_facet_idx:\n",
    "    base_facet_nbr_element.append([unrelax_images[idx][j].symbol for j in tabulated_nbr_index_sorted[idx].astype(int)])\n",
    "base_facet_rd_nbr = np.array([[reference_data[base_facet_nbr_element[i][j]]['rd'] for j in range(number_nbr)] for i in range(len(base_facet_idx))])\n",
    "\n",
    "\n",
    "base_element = 'Pt'\n",
    "\n",
    "ref_ratio = reference_data[base_element]['d_cen']/reference_data[base_element]['Wd']\n",
    "base_idx = np.where(tabulated_name==base_facet+'_'+base_element+'_1.000')[0][0]\n",
    "\n",
    "ele_1 = base_element\n",
    "\n",
    "selected_delta_cen = []\n",
    "selected_images = []\n",
    "\n",
    "selected_rdj = []\n",
    "selected_dij = []\n",
    "selected_zeta = []\n",
    "selected_beta = []\n",
    "selected_alpha = []\n",
    "selected_mulliken = []\n",
    "selected_concen = []\n",
    "\n",
    "selected_idx = ML_idx\n",
    "\n",
    "for kk in range(len(selected_idx)):\n",
    "    \n",
    "    idx = selected_idx[kk]\n",
    "    \n",
    "    selected_images.append(unrelax_images[idx])\n",
    "    \n",
    "    base_element = tabulated_site_element[idx]\n",
    "    ref_ratio = reference_data[base_element]['d_cen']/reference_data[base_element]['Wd']\n",
    "    base_idx = np.where(tabulated_name==base_facet+'_'+base_element+'_1.000')[0][0]\n",
    "    test_idx = np.int64(selected_idx[kk])\n",
    "    \n",
    "    selected_delta_cen.append(tinnet_d_cen[test_idx] - tinnet_d_cen[base_idx])\n",
    "\n",
    "    base_inner_idx = np.where(base_facet_idx==base_idx)[0][0]\n",
    "    test_inner_idx = np.where(base_facet_idx==test_idx)[0][0]\n",
    "    base_X_W = np.array([[0.0]*(number_nbr*3+3)])\n",
    "    for i in range(number_nbr):\n",
    "        base_X_W[0][3*i+0]=base_facet_rd_nbr[base_inner_idx][i]\n",
    "        base_X_W[0][3*i+1]=tabulated_d_ij_sorted[base_idx][i]\n",
    "        base_X_W[0][3*i+2]=zeta[base_idx][i]\n",
    "    base_X_W[0][-3] = alpha[base_idx]\n",
    "    base_X_W[0][-2] = beta[base_idx]\n",
    "    base_X_W[0][-1] = tabulated_mulliken[base_idx]\n",
    "\n",
    "    test_X_W = np.array([[0.0]*(number_nbr*3+3)])\n",
    "    for i in range(number_nbr):\n",
    "        test_X_W[0][3*i+0]=base_facet_rd_nbr[test_inner_idx][i]\n",
    "        test_X_W[0][3*i+1]=tabulated_d_ij_sorted[test_idx][i]\n",
    "        test_X_W[0][3*i+2]=zeta[test_idx][i]\n",
    "    test_X_W[0][-3] = alpha[test_idx]\n",
    "    test_X_W[0][-2] = beta[test_idx]\n",
    "    test_X_W[0][-1] = tabulated_mulliken[test_idx]\n",
    "\n",
    "    explainer = shap.Explainer(d_center, base_X_W)\n",
    "    shap_values = explainer(test_X_W)\n",
    "    \n",
    "    rdj_ = 0\n",
    "    dij_ = 0\n",
    "    zeta_ = 0\n",
    "\n",
    "    alpha_ = shap_values.values[0][-3]\n",
    "    beta_ = shap_values.values[0][-2]\n",
    "    mulliken_ = shap_values.values[0][-1]\n",
    "\n",
    "    selected_alpha.append(alpha_)\n",
    "    selected_beta.append(beta_)\n",
    "    selected_mulliken.append(mulliken_)\n",
    "    \n",
    "    for i in range(number_nbr):\n",
    "        rdj_ += shap_values.values[0][3*i+0]\n",
    "        dij_ += shap_values.values[0][3*i+1]\n",
    "        zeta_ += shap_values.values[0][3*i+2]\n",
    "\n",
    "    selected_rdj.append(rdj_)\n",
    "    selected_dij.append(dij_)\n",
    "    selected_zeta.append(zeta_)"
   ]
  },
  {
   "cell_type": "markdown",
   "metadata": {},
   "source": [
    "For electron transfer effect, plot the correlation between its Shapley value and electronegativity difference, and calculate the correlation coefficient R."
   ]
  },
  {
   "cell_type": "code",
   "execution_count": 18,
   "metadata": {},
   "outputs": [
    {
     "name": "stderr",
     "output_type": "stream",
     "text": [
      "No handles with labels found to put in legend.\n"
     ]
    },
    {
     "name": "stdout",
     "output_type": "stream",
     "text": [
      "R = -0.9464473610435723\n"
     ]
    },
    {
     "data": {
      "text/plain": [
       "(-0.045, 0.01)"
      ]
     },
     "execution_count": 18,
     "metadata": {},
     "output_type": "execute_result"
    },
    {
     "data": {
      "image/png": "[encoded data removed]",
      "text/plain": [
       "<Figure size 451.772x361.418 with 1 Axes>"
      ]
     },
     "metadata": {
      "needs_background": "light"
     },
     "output_type": "display_data"
    }
   ],
   "source": [
    "symbols = ['s','o','^','v','<','>','+','x','D','d'] # Symbol\n",
    "lps = [k+'-' for k in ['o','^','v','<','>','s','+','x','D','d']] # Line + Symbol\n",
    "colors= ['b','r','g','c','m','y','k','w'] # Color\n",
    "ms = 4\n",
    "ew = 1.5\n",
    "rcParams['figure.figsize'] = 2.5*1.5*1.67323,2.0*1.5*1.67323\n",
    "rcParams['ps.useafm'] = True\n",
    "plt.rc('font',**{'family':'sans-serif','sans-serif':['Helvetica']})\n",
    "mpl.rcParams['axes.linewidth'] = 1\n",
    "\n",
    "rcParams['pdf.fonttype'] = 42\n",
    "matplotlib.rc('xtick.major', size=6)\n",
    "matplotlib.rc('xtick.minor', size=3)\n",
    "matplotlib.rc('ytick.major', size=6)\n",
    "matplotlib.rc('ytick.minor', size=3)\n",
    "matplotlib.rc('lines', markeredgewidth=0.5*2)\n",
    "matplotlib.rc('font', size=7*2.0)\n",
    "\n",
    "fig, ax1 = plt.subplots()\n",
    "\n",
    "X = tabulated_mulliken[selected_idx]\n",
    "y = np.array(selected_mulliken)+np.array(selected_beta)\n",
    "\n",
    "ax1.scatter(X,y,color='green',marker='s',s=50)\n",
    "\n",
    "ax1.minorticks_on()\n",
    "\n",
    "ax1.tick_params(axis=\"x\",direction=\"in\",which='both',)\n",
    "ax1.tick_params(axis=\"y\",direction=\"in\",which='both')\n",
    "\n",
    "ax1.set_xticks([-0.2,0.1,0.4,0.7,1.0])\n",
    "ax1.set_yticks([-0.04,-0.03,-0.02,-0.01,0,0.01])\n",
    "\n",
    "ax1.set_xlabel(r'Electronegativity difference $\\Delta \\chi$')\n",
    "ax1.set_ylabel('Shapley value (eV)')\n",
    "ax1.legend(loc='upper left',frameon=False)\n",
    "\n",
    "Z = np.polyfit(X,y,1)\n",
    "plt.plot(np.sort(X),(Z[0]*np.array(X)+Z[1])[np.argsort(X)],'--',color='gray',linewidth=2)\n",
    "corr_matrix = np.corrcoef(X, y)\n",
    "corr = corr_matrix[0,1]\n",
    "print('R = '+str(corr))\n",
    "\n",
    "plt.xlim([-0.3,1.1])\n",
    "plt.ylim([-0.045,0.01])\n",
    "\n",
    "#plt.savefig('trend_ele_transf.png', format='png',transparent = True,dpi=600, bbox_inches='tight')"
   ]
  },
  {
   "cell_type": "markdown",
   "metadata": {},
   "source": [
    "For strain effect, plot the correlation between its Shapley value and lattice constant, and calculate the correlation coefficient R."
   ]
  },
  {
   "cell_type": "code",
   "execution_count": 19,
   "metadata": {},
   "outputs": [
    {
     "name": "stderr",
     "output_type": "stream",
     "text": [
      "No handles with labels found to put in legend.\n"
     ]
    },
    {
     "name": "stdout",
     "output_type": "stream",
     "text": [
      "R = 0.986416203007424\n"
     ]
    },
    {
     "data": {
      "image/png": "[encoded data removed]",
      "text/plain": [
       "<Figure size 451.772x361.418 with 1 Axes>"
      ]
     },
     "metadata": {
      "needs_background": "light"
     },
     "output_type": "display_data"
    }
   ],
   "source": [
    "symbols = ['s','o','^','v','<','>','+','x','D','d'] # Symbol\n",
    "lps = [k+'-' for k in ['o','^','v','<','>','s','+','x','D','d']] # Line + Symbol\n",
    "colors= ['b','r','g','c','m','y','k','w'] # Color\n",
    "ms = 4\n",
    "ew = 1.5\n",
    "rcParams['figure.figsize'] = 2.5*1.5*1.67323,2.0*1.5*1.67323\n",
    "rcParams['ps.useafm'] = True\n",
    "plt.rc('font',**{'family':'sans-serif','sans-serif':['Helvetica']})\n",
    "mpl.rcParams['axes.linewidth'] = 1\n",
    "\n",
    "rcParams['pdf.fonttype'] = 42\n",
    "matplotlib.rc('xtick.major', size=6)\n",
    "matplotlib.rc('xtick.minor', size=3)\n",
    "matplotlib.rc('ytick.major', size=6)\n",
    "matplotlib.rc('ytick.minor', size=3)\n",
    "matplotlib.rc('lines', markeredgewidth=0.5*2)\n",
    "matplotlib.rc('font', size=7*2.0)\n",
    "\n",
    "fig, ax1 = plt.subplots()\n",
    "\n",
    "X = np.array([reference_data[ele]['dij'] for ele in dij_element_sort])*2**0.5\n",
    "y = np.array(selected_dij) + np.array(selected_zeta)\n",
    "\n",
    "ax1.scatter(X,y,color='skyblue',marker='s',s=50)\n",
    "\n",
    "ax1.minorticks_on()\n",
    "\n",
    "ax1.tick_params(axis=\"x\",direction=\"in\",which='both',)\n",
    "ax1.tick_params(axis=\"y\",direction=\"in\",which='both')\n",
    "\n",
    "\n",
    "\n",
    "ax1.set_xlabel(r'Lattice constant ($\\rm \\AA$)')\n",
    "ax1.set_ylabel('Shapley value (eV)')\n",
    "ax1.legend(loc='upper left',frameon=False)\n",
    "\n",
    "Z = np.polyfit(X,y,1)\n",
    "plt.plot(np.sort(X),(Z[0]*np.array(X)+Z[1])[np.argsort(X)],'--',color='gray',linewidth=2)\n",
    "\n",
    "ax1.set_xticks([3.4,3.6, 3.8,4,4.2])\n",
    "ax1.set_yticks([-1.50,-1.00, -0.50, 0,0.5])\n",
    "\n",
    "plt.xlim([3.35,4.25])\n",
    "plt.ylim([-1.5,0.6])\n",
    "\n",
    "corr_matrix = np.corrcoef(X, y)\n",
    "corr = corr_matrix[0,1]\n",
    "print('R = '+str(corr))\n",
    "\n",
    "#plt.savefig('trend_strain.png', format='png',transparent = True,dpi=600, bbox_inches='tight')"
   ]
  },
  {
   "cell_type": "markdown",
   "metadata": {},
   "source": [
    "For ligand effect, plot the correlation between its Shapley value and d-orbital radius of the substrate metal, and calculate the correlation coefficient R."
   ]
  },
  {
   "cell_type": "code",
   "execution_count": 21,
   "metadata": {},
   "outputs": [
    {
     "name": "stderr",
     "output_type": "stream",
     "text": [
      "No handles with labels found to put in legend.\n"
     ]
    },
    {
     "name": "stdout",
     "output_type": "stream",
     "text": [
      "R = -0.9891852211567385\n"
     ]
    },
    {
     "data": {
      "image/png": "[encoded data removed]",
      "text/plain": [
       "<Figure size 451.772x361.418 with 1 Axes>"
      ]
     },
     "metadata": {
      "needs_background": "light"
     },
     "output_type": "display_data"
    }
   ],
   "source": [
    "symbols = ['s','o','^','v','<','>','+','x','D','d'] # Symbol\n",
    "lps = [k+'-' for k in ['o','^','v','<','>','s','+','x','D','d']] # Line + Symbol\n",
    "colors= ['b','r','g','c','m','y','k','w'] # Color\n",
    "ms = 4\n",
    "ew = 1.5\n",
    "rcParams['figure.figsize'] = 2.5*1.5*1.67323,2.0*1.5*1.67323\n",
    "rcParams['ps.useafm'] = True\n",
    "plt.rc('font',**{'family':'sans-serif','sans-serif':['Helvetica']})\n",
    "mpl.rcParams['axes.linewidth'] = 1\n",
    "\n",
    "rcParams['pdf.fonttype'] = 42\n",
    "matplotlib.rc('xtick.major', size=6)\n",
    "matplotlib.rc('xtick.minor', size=3)\n",
    "matplotlib.rc('ytick.major', size=6)\n",
    "matplotlib.rc('ytick.minor', size=3)\n",
    "matplotlib.rc('lines', markeredgewidth=0.5*2)\n",
    "matplotlib.rc('font', size=7*2.0)\n",
    "\n",
    "fig, ax1 = plt.subplots()\n",
    "\n",
    "X = [reference_data[ele]['rd'] for ele in dij_element_sort]\n",
    "y = selected_rdj\n",
    "\n",
    "ax1.scatter(X,y,color='pink',marker='s',s=50)\n",
    "\n",
    "ax1.minorticks_on()\n",
    "\n",
    "ax1.tick_params(axis=\"x\",direction=\"in\",which='both',)\n",
    "ax1.tick_params(axis=\"y\",direction=\"in\",which='both')\n",
    "\n",
    "ax1.set_xticks([0.5,0.6,0.7,0.8,0.9])\n",
    "ax1.set_yticks([-0.15,-0.05,0.05,0.15,0.25])\n",
    "plt.xlim([0.42,0.93])\n",
    "plt.ylim([-0.15,0.25])\n",
    "\n",
    "ax1.set_xlabel(r'$r_d$ of substrate M')\n",
    "ax1.set_ylabel('Shapley value (eV)')\n",
    "ax1.legend(loc='upper left',frameon=False)\n",
    "\n",
    "Z = np.polyfit(X,y,1)\n",
    "plt.plot(np.sort(X),(Z[0]*np.array(X)+Z[1])[np.argsort(X)],'--',color='gray',linewidth=2)\n",
    "corr_matrix = np.corrcoef(X, y)\n",
    "corr = corr_matrix[0,1]\n",
    "print('R = '+str(corr))\n",
    "\n",
    "#plt.savefig('trend_ligand.png', format='png',transparent = True,dpi=600, bbox_inches='tight')"
   ]
  },
  {
   "cell_type": "markdown",
   "metadata": {},
   "source": [
    "For resonance effect, plot the correlation between its Shapley value and d-level misalignment between substrate metal and Pt, and calculate the correlation coefficient R."
   ]
  },
  {
   "cell_type": "code",
   "execution_count": 22,
   "metadata": {},
   "outputs": [
    {
     "name": "stderr",
     "output_type": "stream",
     "text": [
      "No handles with labels found to put in legend.\n"
     ]
    },
    {
     "name": "stdout",
     "output_type": "stream",
     "text": [
      "R = -0.8294776008329389\n"
     ]
    },
    {
     "data": {
      "image/png": "[encoded data removed]",
      "text/plain": [
       "<Figure size 451.772x361.418 with 1 Axes>"
      ]
     },
     "metadata": {
      "needs_background": "light"
     },
     "output_type": "display_data"
    }
   ],
   "source": [
    "symbols = ['s','o','^','v','<','>','+','x','D','d'] # Symbol\n",
    "lps = [k+'-' for k in ['o','^','v','<','>','s','+','x','D','d']] # Line + Symbol\n",
    "colors= ['b','r','g','c','m','y','k','w'] # Color\n",
    "ms = 4\n",
    "ew = 1.5\n",
    "rcParams['figure.figsize'] = 2.5*1.5*1.67323,2.0*1.5*1.67323\n",
    "rcParams['ps.useafm'] = True\n",
    "plt.rc('font',**{'family':'sans-serif','sans-serif':['Helvetica']})\n",
    "mpl.rcParams['axes.linewidth'] = 1\n",
    "\n",
    "rcParams['pdf.fonttype'] = 42\n",
    "matplotlib.rc('xtick.major', size=6)\n",
    "matplotlib.rc('xtick.minor', size=3)\n",
    "matplotlib.rc('ytick.major', size=6)\n",
    "matplotlib.rc('ytick.minor', size=3)\n",
    "matplotlib.rc('lines', markeredgewidth=0.5*2)\n",
    "matplotlib.rc('font', size=7*2.0)\n",
    "\n",
    "fig, ax1 = plt.subplots()\n",
    "\n",
    "X = np.array([reference_data[ele]['d_cen'] for ele in dij_element_sort]) - reference_data['Pt']['d_cen']\n",
    "y = selected_alpha\n",
    "\n",
    "ax1.scatter(X,y,color='orange',marker='s',s=50)\n",
    "\n",
    "ax1.minorticks_on()\n",
    "\n",
    "ax1.tick_params(axis=\"x\",direction=\"in\",which='both',)\n",
    "ax1.tick_params(axis=\"y\",direction=\"in\",which='both')\n",
    "\n",
    "ax1.set_xlabel(r'$d$-level misalignment (eV)')\n",
    "ax1.set_ylabel('Shapley value (eV)')\n",
    "ax1.legend(loc='upper left',frameon=False)\n",
    "\n",
    "ax1.set_xticks([-2,-1,0,1,2])\n",
    "ax1.set_yticks([-0.3,-0.2,-0.1,0,0.1,0.2])\n",
    "plt.xlim([-2,2.2])\n",
    "plt.ylim([-0.33,0.28])\n",
    "\n",
    "Z = np.polyfit(X,y,1)\n",
    "plt.plot(np.sort(X),(Z[0]*np.array(X)+Z[1])[np.argsort(X)],'--',color='gray',linewidth=2)\n",
    "corr_matrix = np.corrcoef(X, y)\n",
    "corr = corr_matrix[0,1]\n",
    "print('R = '+str(corr))\n",
    "\n",
    "#plt.savefig('trend_resonance.png', format='png',transparent = True,dpi=600, bbox_inches='tight')"
   ]
  },
  {
   "cell_type": "markdown",
   "metadata": {},
   "source": [
    "### Make Figure 6a"
   ]
  },
  {
   "cell_type": "markdown",
   "metadata": {},
   "source": [
    "Load DOS data fot Pt and Pt1Au SAA"
   ]
  },
  {
   "cell_type": "code",
   "execution_count": 36,
   "metadata": {},
   "outputs": [],
   "source": [
    "energ = np.linspace(-15,15,3001)\n",
    "dos_Pt = np.loadtxt('Data/dos_Pt.txt')\n",
    "dos_SAA = np.loadtxt('Data/dos_Pt1Au.txt')"
   ]
  },
  {
   "cell_type": "markdown",
   "metadata": {},
   "source": [
    "Plot DOS"
   ]
  },
  {
   "cell_type": "code",
   "execution_count": 37,
   "metadata": {},
   "outputs": [
    {
     "data": {
      "text/plain": [
       "<matplotlib.collections.LineCollection at 0x178a5e470>"
      ]
     },
     "execution_count": 37,
     "metadata": {},
     "output_type": "execute_result"
    },
    {
     "data": {
      "image/png": "[encoded data removed]",
      "text/plain": [
       "<Figure size 451.772x361.418 with 1 Axes>"
      ]
     },
     "metadata": {
      "needs_background": "light"
     },
     "output_type": "display_data"
    }
   ],
   "source": [
    "# the id for Pt1Au SAA is 8880\n",
    "\n",
    "Pt1Au_idx = 8880\n",
    "\n",
    "symbols = ['s','o','^','v','<','>','+','x','D','d'] # Symbol\n",
    "lps = [k+'-' for k in ['o','^','v','<','>','s','+','x','D','d']] # Line + Symbol\n",
    "colors= ['b','r','g','c','m','y','k','w'] # Color\n",
    "ms = 4\n",
    "ew = 1.5\n",
    "rcParams['figure.figsize'] = 2.5*1.5*1.67323,2.0*1.5*1.67323\n",
    "rcParams['ps.useafm'] = True\n",
    "plt.rc('font',**{'family':'sans-serif','sans-serif':['Helvetica']})\n",
    "mpl.rcParams['axes.linewidth'] = 1\n",
    "\n",
    "rcParams['pdf.fonttype'] = 42\n",
    "matplotlib.rc('xtick.major', size=6)\n",
    "matplotlib.rc('xtick.minor', size=3)\n",
    "matplotlib.rc('ytick.major', size=6)\n",
    "matplotlib.rc('ytick.minor', size=3)\n",
    "matplotlib.rc('lines', markeredgewidth=0.5*2)\n",
    "matplotlib.rc('font', size=7*2.0)\n",
    "\n",
    "fig, ax1 = plt.subplots()\n",
    "\n",
    "plt.plot(energ,dos_Pt,color='mediumturquoise', linewidth = 2,label = 'Pt',alpha=1)\n",
    "plt.plot(energ,dos_SAA,color='lightcoral', linewidth = 2,label = r'Pt$_1$Au',alpha=1)\n",
    "plt.xlabel(r'$\\rm E - E_F$ (eV)')\n",
    "plt.ylabel('DOS (arb. unit)')\n",
    "plt.minorticks_on()\n",
    "#plt.tick_params(axis=\"y\",direction=\"in\",which='both')\n",
    "plt.tick_params(axis=\"x\",direction=\"in\",which='both')\n",
    "plt.legend(ncol=1,loc = 'upper left',frameon=False)\n",
    "plt.xlim([-7,4])\n",
    "plt.ylim([0,0.7])\n",
    "plt.xticks([-6,-4,-2,0,2,4])\n",
    "plt.yticks([])\n",
    "\n",
    "plt.fill_between(energ,0,dos_Pt,where = energ<0,color='gray',alpha=0.2,linewidth=0.0)\n",
    "plt.fill_between(energ,0,dos_SAA,where = energ<0,color='gray',alpha=0.2,linewidth=0.0)\n",
    "\n",
    "plt.vlines(dft_d_cen[base_idx],ymin=0,ymax=0.5,colors='mediumturquoise',linestyles='--',linewidth=1.5)\n",
    "plt.vlines(dft_d_cen[Pt1Au_idx],ymin=0,ymax=0.5,colors='lightcoral',linestyles='--',linewidth=1.5)\n",
    "\n",
    "#plt.savefig('PtAu_SAA_dos.png', format='png',transparent = True,dpi=600,bbox_inches='tight')"
   ]
  },
  {
   "cell_type": "markdown",
   "metadata": {},
   "source": [
    "### Make Figure 6b"
   ]
  },
  {
   "cell_type": "markdown",
   "metadata": {},
   "source": [
    "Calculate Shapley values of Pt1Au SAA with pure Pt as the base"
   ]
  },
  {
   "cell_type": "code",
   "execution_count": 38,
   "metadata": {},
   "outputs": [],
   "source": [
    "selected_delta_cen = []\n",
    "selected_images = []\n",
    "\n",
    "selected_rdj = []\n",
    "selected_dij = []\n",
    "selected_zeta = []\n",
    "selected_beta = []\n",
    "selected_alpha = []\n",
    "selected_mulliken = []\n",
    "selected_concen = []\n",
    "\n",
    "selected_idx = [Pt1Au_idx]\n",
    "\n",
    "for kk in range(len(selected_idx)):\n",
    "    \n",
    "    idx = selected_idx[kk]\n",
    "    \n",
    "    selected_images.append(unrelax_images[idx])\n",
    "    \n",
    "    base_element = tabulated_site_element[idx]\n",
    "    ref_ratio = reference_data[base_element]['d_cen']/reference_data[base_element]['Wd']\n",
    "    base_idx = np.where(tabulated_name==base_facet+'_'+base_element+'_1.000')[0][0]\n",
    "    test_idx = np.int64(selected_idx[kk])\n",
    "    \n",
    "    selected_delta_cen.append(tinnet_d_cen[test_idx] - tinnet_d_cen[base_idx])\n",
    "\n",
    "    base_inner_idx = np.where(base_facet_idx==base_idx)[0][0]\n",
    "    test_inner_idx = np.where(base_facet_idx==test_idx)[0][0]\n",
    "    base_X_W = np.array([[0.0]*(number_nbr*3+3)])\n",
    "    for i in range(number_nbr):\n",
    "        base_X_W[0][3*i+0]=base_facet_rd_nbr[base_inner_idx][i]\n",
    "        base_X_W[0][3*i+1]=tabulated_d_ij_sorted[base_idx][i]\n",
    "        base_X_W[0][3*i+2]=zeta[base_idx][i]\n",
    "    base_X_W[0][-3] = alpha[base_idx]\n",
    "    base_X_W[0][-2] = beta[base_idx]\n",
    "    base_X_W[0][-1] = tabulated_mulliken[base_idx]\n",
    "\n",
    "    test_X_W = np.array([[0.0]*(number_nbr*3+3)])\n",
    "    for i in range(number_nbr):\n",
    "        test_X_W[0][3*i+0]=base_facet_rd_nbr[test_inner_idx][i]\n",
    "        test_X_W[0][3*i+1]=tabulated_d_ij_sorted[test_idx][i]\n",
    "        test_X_W[0][3*i+2]=zeta[test_idx][i]\n",
    "    test_X_W[0][-3] = alpha[test_idx]\n",
    "    test_X_W[0][-2] = beta[test_idx]\n",
    "    test_X_W[0][-1] = tabulated_mulliken[test_idx]\n",
    "\n",
    "    explainer = shap.Explainer(d_center, base_X_W)\n",
    "    shap_values = explainer(test_X_W)\n",
    "    \n",
    "    rdj_ = 0\n",
    "    dij_ = 0\n",
    "    zeta_ = 0\n",
    "\n",
    "    alpha_ = shap_values.values[0][-3]\n",
    "    beta_ = shap_values.values[0][-2]\n",
    "    mulliken_ = shap_values.values[0][-1]\n",
    "\n",
    "    selected_alpha.append(alpha_)\n",
    "    selected_beta.append(beta_)\n",
    "    selected_mulliken.append(mulliken_)\n",
    "  \n",
    "    for i in range(number_nbr):\n",
    "        rdj_ += shap_values.values[0][3*i+0]\n",
    "        dij_ += shap_values.values[0][3*i+1]\n",
    "        zeta_ += shap_values.values[0][3*i+2]\n",
    "\n",
    "    selected_rdj.append(rdj_)\n",
    "    selected_dij.append(dij_)\n",
    "    selected_zeta.append(zeta_)"
   ]
  },
  {
   "cell_type": "markdown",
   "metadata": {},
   "source": [
    "Plot the waterfall chart. Note that the one in the main text has been refined using Adobe Illustrator."
   ]
  },
  {
   "cell_type": "code",
   "execution_count": 39,
   "metadata": {},
   "outputs": [
    {
     "data": {
      "image/png": "[encoded data removed]",
      "text/plain": [
       "<Figure size 451.772x361.418 with 1 Axes>"
      ]
     },
     "metadata": {
      "needs_background": "light"
     },
     "output_type": "display_data"
    }
   ],
   "source": [
    "symbols = ['s','o','^','v','<','>','+','x','D','d'] # Symbol\n",
    "lps = [k+'-' for k in ['o','^','v','<','>','s','+','x','D','d']] # Line + Symbol\n",
    "colors= ['b','r','g','c','m','y','k','w'] # Color\n",
    "ms = 4\n",
    "ew = 1.5\n",
    "rcParams['figure.figsize'] = 2.5*1.5*1.67323,2.0*1.5*1.67323\n",
    "rcParams['ps.useafm'] = True\n",
    "plt.rc('font',**{'family':'sans-serif','sans-serif':['Helvetica']})\n",
    "\n",
    "rcParams['pdf.fonttype'] = 42\n",
    "matplotlib.rc('xtick.major', size=6)\n",
    "matplotlib.rc('xtick.minor', size=3)\n",
    "matplotlib.rc('ytick.major', size=6)\n",
    "matplotlib.rc('ytick.minor', size=3)\n",
    "matplotlib.rc('lines', markeredgewidth=0.5*2)\n",
    "matplotlib.rc('font', size=7*2.0)\n",
    "\n",
    "a = ['ligand','resonance','strain','relax','elect. transf']\n",
    "b = [selected_rdj[0],selected_alpha[0],selected_dij[0],selected_zeta[0],selected_beta[0]+selected_mulliken[0]]\n",
    "my_plot = waterfall_chart.plot(a, b, sorted_value=True,formatting='{:,.3f}',rotation_value=90,x_lab = 'Controlling factors',y_lab = 'Shapley values (eV)')\n",
    "#my_plot.savefig('PtAu_SAA_SHAP_effects.png', format='png',transparent = True,dpi=600,bbox_inches='tight')"
   ]
  },
  {
   "cell_type": "code",
   "execution_count": null,
   "metadata": {},
   "outputs": [],
   "source": []
  }
 ],
 "metadata": {
  "kernelspec": {
   "display_name": "Python 3",
   "language": "python",
   "name": "python3"
  },
  "language_info": {
   "codemirror_mode": {
    "name": "ipython",
    "version": 3
   },
   "file_extension": ".py",
   "mimetype": "text/x-python",
   "name": "python",
   "nbconvert_exporter": "python",
   "pygments_lexer": "ipython3",
   "version": "3.7.3"
  }
 },
 "nbformat": 4,
 "nbformat_minor": 2
}
